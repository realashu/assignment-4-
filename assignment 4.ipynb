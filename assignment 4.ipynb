{
 "cells": [
  {
   "cell_type": "code",
   "execution_count": 1,
   "id": "2b62ab4c-e4c8-4dfb-a5d4-60f4043e0044",
   "metadata": {},
   "outputs": [],
   "source": [
    "#Q1 "
   ]
  },
  {
   "cell_type": "code",
   "execution_count": 6,
   "id": "41ae4f79-0f36-4fdd-81d6-15a8df4a29b3",
   "metadata": {},
   "outputs": [
    {
     "name": "stdout",
     "output_type": "stream",
     "text": [
      "original list of tuples:\n",
      "[('sachintendulakar', 34357), ('ricky ponting', 27483), ('jack kallis', 25534), ('virat kohli', 24936)]\n",
      "\n",
      "sorting the list of tuples:\n",
      "[('virat kohli', 24936), ('jack kallis', 25534), ('ricky ponting', 27483), ('sachintendulakar', 34357)]\n"
     ]
    }
   ],
   "source": [
    "l = [(\"sachintendulakar\", 34357),(\"ricky ponting\",27483),(\"jack kallis\",25534),(\"virat kohli\",24936)]\n",
    "print(\"original list of tuples:\")\n",
    "print(l)\n",
    "l.sort(key = lambda x:x[1])\n",
    "print(\"\\nsorting the list of tuples:\")\n",
    "print(l)"
   ]
  },
  {
   "cell_type": "code",
   "execution_count": 9,
   "id": "2fba42a4-ccf4-4669-a838-0c4684f57fb2",
   "metadata": {},
   "outputs": [],
   "source": [
    "#Q2"
   ]
  },
  {
   "cell_type": "code",
   "execution_count": 7,
   "id": "0a43ea32-a88b-43fa-8c17-b702eb3635c6",
   "metadata": {},
   "outputs": [],
   "source": [
    "p = [1,2,3,4,5,6,7,8,9,10]"
   ]
  },
  {
   "cell_type": "code",
   "execution_count": 8,
   "id": "37caee6c-976a-424a-94a5-19f28c159818",
   "metadata": {},
   "outputs": [
    {
     "data": {
      "text/plain": [
       "[1, 4, 9, 16, 25, 36, 49, 64, 81, 100]"
      ]
     },
     "execution_count": 8,
     "metadata": {},
     "output_type": "execute_result"
    }
   ],
   "source": [
    "list(map(lambda x: x**2,p))"
   ]
  },
  {
   "cell_type": "code",
   "execution_count": 10,
   "id": "24c64baa-6e61-4283-80b3-6b39abaa29a3",
   "metadata": {},
   "outputs": [],
   "source": [
    "#Q3 "
   ]
  },
  {
   "cell_type": "code",
   "execution_count": 11,
   "id": "ac580f5c-514e-470d-8212-fd04df63f229",
   "metadata": {},
   "outputs": [],
   "source": [
    "s = [1,2,3,4,5,6,7,8,9,10]"
   ]
  },
  {
   "cell_type": "code",
   "execution_count": 12,
   "id": "95027d44-6f27-4994-b12f-ac1f2ce2a8aa",
   "metadata": {},
   "outputs": [
    {
     "data": {
      "text/plain": [
       "('1', '2', '3', '4', '5', '6', '7', '8', '9', '10')"
      ]
     },
     "execution_count": 12,
     "metadata": {},
     "output_type": "execute_result"
    }
   ],
   "source": [
    "tuple(map(lambda x : str(x),s))"
   ]
  },
  {
   "cell_type": "code",
   "execution_count": 13,
   "id": "f0116ff4-f18e-4e59-8e10-41b3ae8b762f",
   "metadata": {},
   "outputs": [],
   "source": [
    "#Q4 "
   ]
  },
  {
   "cell_type": "code",
   "execution_count": 14,
   "id": "fbca33d3-dfd0-425d-9c1e-262acc3cb4dc",
   "metadata": {},
   "outputs": [],
   "source": [
    "from functools import reduce "
   ]
  },
  {
   "cell_type": "code",
   "execution_count": 15,
   "id": "64a799b7-cb6c-4dbc-ad3f-1f260f4d0183",
   "metadata": {},
   "outputs": [],
   "source": [
    "l = [1,2,3,4,5,6,7,8,9,10,11,12,13,14,15,16,17,18,19,20,21,22,23,24,25]"
   ]
  },
  {
   "cell_type": "code",
   "execution_count": 16,
   "id": "35549177-c08a-43ef-a18e-fb3f7e53f391",
   "metadata": {},
   "outputs": [
    {
     "data": {
      "text/plain": [
       "15511210043330985984000000"
      ]
     },
     "execution_count": 16,
     "metadata": {},
     "output_type": "execute_result"
    }
   ],
   "source": [
    "reduce(lambda x,y : x*y , l)"
   ]
  },
  {
   "cell_type": "code",
   "execution_count": 17,
   "id": "710122df-b43f-44a5-b826-4d14875a0542",
   "metadata": {},
   "outputs": [],
   "source": [
    "#Q5"
   ]
  },
  {
   "cell_type": "code",
   "execution_count": 18,
   "id": "34d799d4-28bb-4bf5-b3d9-b34b91cb7481",
   "metadata": {},
   "outputs": [],
   "source": [
    "u = [2,3,6,9,27,60,120,55,46]"
   ]
  },
  {
   "cell_type": "code",
   "execution_count": 32,
   "id": "db7843b2-a228-42b6-8dd6-3a010e38e087",
   "metadata": {},
   "outputs": [
    {
     "data": {
      "text/plain": [
       "[2, 6, 60, 120, 46]"
      ]
     },
     "execution_count": 32,
     "metadata": {},
     "output_type": "execute_result"
    }
   ],
   "source": [
    "list(filter (lambda x : x%2 & 3 == 0  ,u))"
   ]
  },
  {
   "cell_type": "code",
   "execution_count": null,
   "id": "6b4c01c7-9b3b-4e8b-a615-c450c8fb101a",
   "metadata": {},
   "outputs": [],
   "source": []
  }
 ],
 "metadata": {
  "kernelspec": {
   "display_name": "Python 3 (ipykernel)",
   "language": "python",
   "name": "python3"
  },
  "language_info": {
   "codemirror_mode": {
    "name": "ipython",
    "version": 3
   },
   "file_extension": ".py",
   "mimetype": "text/x-python",
   "name": "python",
   "nbconvert_exporter": "python",
   "pygments_lexer": "ipython3",
   "version": "3.10.8"
  }
 },
 "nbformat": 4,
 "nbformat_minor": 5
}
